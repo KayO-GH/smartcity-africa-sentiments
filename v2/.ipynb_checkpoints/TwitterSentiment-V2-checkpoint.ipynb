{
 "cells": [
  {
   "cell_type": "markdown",
   "id": "c46b293f",
   "metadata": {},
   "source": [
    "This work borrows heavily from the code base at: https://github.com/ccatalao/covid19vaccine-emotions/blob/master/olstorm.ipynb"
   ]
  },
  {
   "cell_type": "code",
   "execution_count": 1,
   "id": "04efe018",
   "metadata": {},
   "outputs": [],
   "source": [
    "import tweepy\n",
    "import snscrape.modules.twitter as sntwitter\n",
    "import csv\n",
    "import pandas as pd\n",
    "import matplotlib.pyplot as plt\n",
    "import os\n",
    "import ssl"
   ]
  },
  {
   "cell_type": "code",
   "execution_count": 2,
   "id": "c5c83603",
   "metadata": {},
   "outputs": [
    {
     "data": {
      "text/html": [
       "<div>\n",
       "<style scoped>\n",
       "    .dataframe tbody tr th:only-of-type {\n",
       "        vertical-align: middle;\n",
       "    }\n",
       "\n",
       "    .dataframe tbody tr th {\n",
       "        vertical-align: top;\n",
       "    }\n",
       "\n",
       "    .dataframe thead th {\n",
       "        text-align: right;\n",
       "    }\n",
       "</style>\n",
       "<table border=\"1\" class=\"dataframe\">\n",
       "  <thead>\n",
       "    <tr style=\"text-align: right;\">\n",
       "      <th></th>\n",
       "      <th>project</th>\n",
       "      <th>start</th>\n",
       "      <th>five_year_mark</th>\n",
       "      <th>end_date</th>\n",
       "      <th>handle</th>\n",
       "      <th>country</th>\n",
       "    </tr>\n",
       "  </thead>\n",
       "  <tbody>\n",
       "    <tr>\n",
       "      <th>0</th>\n",
       "      <td>Konza tech</td>\n",
       "      <td>2013-01-01</td>\n",
       "      <td>2018-01-01</td>\n",
       "      <td>2020-12-31</td>\n",
       "      <td>konzatech</td>\n",
       "      <td>Kenya</td>\n",
       "    </tr>\n",
       "    <tr>\n",
       "      <th>1</th>\n",
       "      <td>Eko Atlantic</td>\n",
       "      <td>2009-01-01</td>\n",
       "      <td>2014-01-01</td>\n",
       "      <td>2020-12-31</td>\n",
       "      <td>EkoAtlantic</td>\n",
       "      <td>Nigeria</td>\n",
       "    </tr>\n",
       "    <tr>\n",
       "      <th>2</th>\n",
       "      <td>Waterfall City</td>\n",
       "      <td>2006-01-01</td>\n",
       "      <td>2011-01-01</td>\n",
       "      <td>2020-12-31</td>\n",
       "      <td>WaterfallCityZA</td>\n",
       "      <td>South Africa</td>\n",
       "    </tr>\n",
       "    <tr>\n",
       "      <th>3</th>\n",
       "      <td>Hope city</td>\n",
       "      <td>2013-01-01</td>\n",
       "      <td>2018-01-01</td>\n",
       "      <td>2020-12-31</td>\n",
       "      <td>NaN</td>\n",
       "      <td>Ghana</td>\n",
       "    </tr>\n",
       "    <tr>\n",
       "      <th>4</th>\n",
       "      <td>Vision city</td>\n",
       "      <td>2013-01-01</td>\n",
       "      <td>2018-01-01</td>\n",
       "      <td>2020-12-31</td>\n",
       "      <td>NaN</td>\n",
       "      <td>Rwanda</td>\n",
       "    </tr>\n",
       "  </tbody>\n",
       "</table>\n",
       "</div>"
      ],
      "text/plain": [
       "          project        start  five_year_mark     end_date           handle  \\\n",
       "0      Konza tech   2013-01-01      2018-01-01   2020-12-31        konzatech   \n",
       "1    Eko Atlantic   2009-01-01      2014-01-01   2020-12-31      EkoAtlantic   \n",
       "2  Waterfall City   2006-01-01      2011-01-01   2020-12-31  WaterfallCityZA   \n",
       "3       Hope city   2013-01-01      2018-01-01   2020-12-31              NaN   \n",
       "4     Vision city   2013-01-01      2018-01-01   2020-12-31              NaN   \n",
       "\n",
       "        country  \n",
       "0         Kenya  \n",
       "1       Nigeria  \n",
       "2  South Africa  \n",
       "3         Ghana  \n",
       "4        Rwanda  "
      ]
     },
     "execution_count": 2,
     "metadata": {},
     "output_type": "execute_result"
    }
   ],
   "source": [
    "search_df = pd.read_csv('search_data.csv')\n",
    "search_df.head()"
   ]
  },
  {
   "cell_type": "code",
   "execution_count": 3,
   "id": "e3391c5c",
   "metadata": {},
   "outputs": [],
   "source": [
    "# Code adapted from https://medium.datadriveninvestor.com/how-to-build-a-twitter-scraping-app-with-python-b3fc069a19c6\n",
    "def create_data_file(idx, first_5=True, maxTweets = 100000):\n",
    "    project, start, five_year_mark, end_date, handle, country = list(search_df.iloc[idx])\n",
    "    print(project, \"5\" if first_5 else \"\")\n",
    "    \n",
    "    csvFile = open(f\"tweets/{project}{'_5' if first_5 else ''}.csv\", 'a', newline='', encoding='utf8')\n",
    "\n",
    "    csvWriter = csv.writer(csvFile)\n",
    "    csvWriter.writerow(['id','datetime', 'username', 'tweets'])\n",
    "\n",
    "    # Query with 'smart city'\n",
    "    query1 = f'{str.lower(project)} \"smart city\" lang:en since:{str(start if first_5 else five_year_mark).strip()} until:{str(five_year_mark if first_5 else end_date).strip()}'\n",
    "    for i,tweet in enumerate(sntwitter.TwitterSearchScraper(query1).get_items()):\n",
    "        print('# singular downloaded tweets:', i, end='\\r')\n",
    "        if i > maxTweets :\n",
    "            break\n",
    "        csvWriter.writerow([str(tweet.id)+\"\", tweet.date, tweet.username, tweet.content])\n",
    "    \n",
    "    print() #throw in one blank line\n",
    "    \n",
    "    # Query with 'smart cities'\n",
    "    query2 = f'{str.lower(project)} \"smart cities\" lang:en since:{str(start if first_5 else five_year_mark).strip()} until:{str(five_year_mark if first_5 else end_date).strip()}'\n",
    "    for i,tweet in enumerate(sntwitter.TwitterSearchScraper(query2).get_items()):\n",
    "        print('# plural downloaded tweets:', i, end='\\r')\n",
    "        if i > maxTweets :\n",
    "            break\n",
    "        csvWriter.writerow([str(tweet.id)+\"\", tweet.date, tweet.username, tweet.content])\n",
    "        \n",
    "    # Query with country\n",
    "    query3 = f'{str.lower(project)} {country} lang:en since:{str(start if first_5 else five_year_mark).strip()} until:{str(five_year_mark if first_5 else end_date).strip()}'\n",
    "    for i,tweet in enumerate(sntwitter.TwitterSearchScraper(query3).get_items()):\n",
    "        print('# country downloaded tweets:', i, end='\\r')\n",
    "        if i > maxTweets :\n",
    "            break\n",
    "        csvWriter.writerow([str(tweet.id)+\"\", tweet.date, tweet.username, tweet.content])\n",
    "        \n",
    "    csvFile.close()\n",
    "    print(\"\\ndone\")\n",
    "    print() #throw in one blank line"
   ]
  },
  {
   "cell_type": "code",
   "execution_count": 4,
   "id": "8e8b22dc",
   "metadata": {
    "scrolled": true
   },
   "outputs": [
    {
     "name": "stdout",
     "output_type": "stream",
     "text": [
      "Konza tech 5\n",
      "# singular downloaded tweets: 6\n",
      "# country downloaded tweets: 304\n",
      "done\n",
      "\n",
      "Konza tech \n",
      "# singular downloaded tweets: 98\n",
      "# country downloaded tweets: 84\n",
      "done\n",
      "\n",
      "Eko Atlantic 5\n",
      "# singular downloaded tweets: 7\n",
      "# country downloaded tweets: 488\n",
      "done\n",
      "\n",
      "Eko Atlantic \n",
      "# singular downloaded tweets: 85\n",
      "# country downloaded tweets: 899\r"
     ]
    },
    {
     "name": "stderr",
     "output_type": "stream",
     "text": [
      "Error retrieving https://api.twitter.com/2/search/adaptive.json?include_profile_interstitial_type=1&include_blocking=1&include_blocked_by=1&include_followed_by=1&include_want_retweets=1&include_mute_edge=1&include_can_dm=1&include_can_media_tag=1&skip_status=1&cards_platform=Web-12&include_cards=1&include_composer_source=true&include_ext_alt_text=true&include_reply_count=1&tweet_mode=extended&include_entities=true&include_user_entities=true&include_ext_media_color=true&include_ext_media_availability=true&send_error_codes=true&simple_quoted_tweets=true&q=eko+atlantic+Nigeria+lang%3Aen+since%3A2014-01-01+until%3A2020-12-31&tweet_search_mode=live&count=100&query_source=spelling_expansion_revert_click&cursor=scroll%3AthGAVUV0VFVBaMwLaVu5SVlx4WgsC3tb2xjaUlEnEVzOx4FYCJehgHREVGQVVMVDUBFRIVAAA%3D&pc=1&spelling_corrections=1&ext=mediaStats%252CcameraMoment: ConnectionError(ProtocolError('Connection aborted.', ConnectionResetError(104, 'Connection reset by peer'))), retrying\n"
     ]
    },
    {
     "name": "stdout",
     "output_type": "stream",
     "text": [
      "# country downloaded tweets: 3835\n",
      "done\n",
      "\n",
      "Waterfall City 5\n"
     ]
    },
    {
     "name": "stderr",
     "output_type": "stream",
     "text": [
      "Error retrieving https://twitter.com/search?f=live&lang=en&q=waterfall+city+%22smart+city%22+lang%3Aen+since%3A2006-01-01+until%3A2011-01-01&src=spelling_expansion_revert_click: ChunkedEncodingError(ProtocolError(\"Connection broken: ConnectionResetError(104, 'Connection reset by peer')\", ConnectionResetError(104, 'Connection reset by peer'))), retrying\n"
     ]
    },
    {
     "name": "stdout",
     "output_type": "stream",
     "text": [
      "\n",
      "\n",
      "done\n",
      "\n",
      "Waterfall City \n",
      "# singular downloaded tweets: 42\n",
      "# country downloaded tweets: 172\n",
      "done\n",
      "\n",
      "Hope city 5\n",
      "# singular downloaded tweets: 5\n",
      "# country downloaded tweets: 1190\n",
      "done\n",
      "\n",
      "Hope city \n"
     ]
    },
    {
     "name": "stderr",
     "output_type": "stream",
     "text": [
      "Error retrieving https://api.twitter.com/2/search/adaptive.json?include_profile_interstitial_type=1&include_blocking=1&include_blocked_by=1&include_followed_by=1&include_want_retweets=1&include_mute_edge=1&include_can_dm=1&include_can_media_tag=1&skip_status=1&cards_platform=Web-12&include_cards=1&include_composer_source=true&include_ext_alt_text=true&include_reply_count=1&tweet_mode=extended&include_entities=true&include_user_entities=true&include_ext_media_color=true&include_ext_media_availability=true&send_error_codes=true&simple_quoted_tweets=true&q=hope+city+%22smart+city%22+lang%3Aen+since%3A2018-01-01+until%3A2020-12-31&tweet_search_mode=live&count=100&query_source=spelling_expansion_revert_click&pc=1&spelling_corrections=1&ext=mediaStats%252CcameraMoment: ConnectionError(ProtocolError('Connection aborted.', ConnectionResetError(104, 'Connection reset by peer'))), retrying\n"
     ]
    },
    {
     "name": "stdout",
     "output_type": "stream",
     "text": [
      "# singular downloaded tweets: 0\n",
      "# country downloaded tweets: 148\n",
      "done\n",
      "\n",
      "Vision city 5\n",
      "# singular downloaded tweets: 20\n",
      "# country downloaded tweets: 487\n",
      "done\n",
      "\n",
      "Vision city \n",
      "# singular downloaded tweets: 1\n",
      "# country downloaded tweets: 212\n",
      "done\n",
      "\n"
     ]
    }
   ],
   "source": [
    "# maxTweets = 1000\n",
    "\n",
    "for i in range(len(search_df)):\n",
    "    create_data_file(i, True)# first 5\n",
    "    create_data_file(i, False)# after the first 5"
   ]
  },
  {
   "cell_type": "markdown",
   "id": "f5e83cbe",
   "metadata": {},
   "source": [
    "Get the replies to the tweets we have downloadedfor sentiment analysis as well"
   ]
  },
  {
   "cell_type": "code",
   "execution_count": 5,
   "id": "a326970b",
   "metadata": {},
   "outputs": [],
   "source": [
    "# def get_and_append_replies(tweets_file_path, api):\n",
    "#     df = pd.read_csv(tweets_file_path)\n",
    "#     original_length = len(df)\n",
    "#     project = tweets_file_path[:-4] if (not '_5' in tweets_file_path) else tweets_file_path[:-6]\n",
    "#     for i in range(original_length):\n",
    "#         name = df.iloc[i]['username']\n",
    "#         tweet_id = df.iloc[i]['id']\n",
    "        \n",
    "#         replies=[]\n",
    "#         # for tweet in tweepy.Cursor(api.search,q='to:'+name, result_type='mixed', timeout=999999).items(1000):\n",
    "#         for tweet in tweepy.Cursor(api.search,q='to:EkoAtlantic', result_type='mixed', timeout=999999).items(1000):\n",
    "#             if hasattr(tweet, 'in_reply_to_status_id_str'):\n",
    "#                 if (tweet.in_reply_to_status_id_str==tweet_id):\n",
    "#                     replies.append(tweet)\n",
    "                    \n",
    "#         if len(replies)>0:\n",
    "#             print(replies)\n",
    "#             break"
   ]
  },
  {
   "cell_type": "code",
   "execution_count": 6,
   "id": "a849a0eb",
   "metadata": {},
   "outputs": [],
   "source": [
    "# # Get tweepy access details\n",
    "# from secret import *"
   ]
  },
  {
   "cell_type": "code",
   "execution_count": 7,
   "id": "97eb8d06",
   "metadata": {},
   "outputs": [],
   "source": [
    "# # Adapted from https://github.com/nirholas/Get-Tweet-Replies-With-Python-Tweepy/blob/master/twitter_reply.py\n",
    "# # For getting tweet replies it is easier to use tweepy than snscrape because of some known issues\n",
    "\n",
    "# ssl._create_default_https_context = ssl._create_unverified_context\n",
    "\n",
    "# # Oauth keys\n",
    "# consumer_key = API_KEY\n",
    "# consumer_secret = API_SECRET\n",
    "# access_token = ACCESS_TOKEN\n",
    "# access_token_secret = ACCESS_TOKEN_SECRET\n",
    "\n",
    "# # Authentication with Twitter\n",
    "# auth = tweepy.OAuthHandler(consumer_key, consumer_secret)\n",
    "# auth.set_access_token(access_token, access_token_secret)\n",
    "# api = tweepy.API(auth)\n",
    "\n",
    "# for file in os.listdir('tweets'):\n",
    "#     get_and_append_replies(f'tweets/{file}', api)\n",
    "#     break"
   ]
  },
  {
   "cell_type": "markdown",
   "id": "e9ab2d83",
   "metadata": {},
   "source": [
    "Emotions: anger, fear, anticipation, trust, surprise, sadness, joy, disgust"
   ]
  },
  {
   "cell_type": "code",
   "execution_count": 8,
   "id": "5a9f6689",
   "metadata": {},
   "outputs": [],
   "source": [
    "import nltk\n",
    "from nltk.corpus import stopwords\n",
    "from nltk.stem.snowball import SnowballStemmer\n",
    "from nltk.stem import WordNetLemmatizer \n",
    "from nltk.tokenize import sent_tokenize, word_tokenize\n",
    "from nltk import pos_tag\n",
    "from nltk.sentiment.vader import SentimentIntensityAnalyzer"
   ]
  },
  {
   "cell_type": "code",
   "execution_count": 9,
   "id": "8c1984fe",
   "metadata": {},
   "outputs": [],
   "source": [
    "import string\n",
    "import re  # for regular expressions"
   ]
  },
  {
   "cell_type": "code",
   "execution_count": 10,
   "id": "6a2e0d53",
   "metadata": {},
   "outputs": [],
   "source": [
    "from collections import defaultdict"
   ]
  },
  {
   "cell_type": "code",
   "execution_count": 11,
   "id": "c8aaba3d",
   "metadata": {},
   "outputs": [],
   "source": [
    "STOPLIST = set(stopwords.words('english'))\n",
    "SYMBOLS = set(\" \".join(string.punctuation).split(\" \") + \\\n",
    "[\"-\", \"...\", \"”\", \"``\", \",\", \".\", \":\", \"''\",\"#\",\"@\"])"
   ]
  },
  {
   "cell_type": "code",
   "execution_count": 12,
   "id": "bb1b9bde",
   "metadata": {},
   "outputs": [],
   "source": [
    "# The NLTK lemmatizer and stemmer classes\n",
    "lemmatizer = WordNetLemmatizer()\n",
    "stemmer = SnowballStemmer('english')"
   ]
  },
  {
   "cell_type": "code",
   "execution_count": 13,
   "id": "c14bfb24",
   "metadata": {},
   "outputs": [],
   "source": [
    "# Use the POS tagging from NLTK to retain only adjectives, verbs, adverbs \n",
    "# and nouns as a base for for lemmatization.\n",
    "def get_lemmas(tweet): \n",
    "    \n",
    "    # A dictionary to help convert Treebank tags to WordNet\n",
    "    treebank2wordnet = {\n",
    "        'NN':'n', # noun\n",
    "        'JJ':'a', # adjective\n",
    "        'VB':'v', # verb\n",
    "        'RB':'r'  # adverb\n",
    "    }\n",
    "    \n",
    "    postag = ''\n",
    "    lemmas_list = []\n",
    "    \n",
    "    for word, tag in pos_tag(word_tokenize(tweet)):\n",
    "        if tag.startswith(\"JJ\")     \\\n",
    "            or tag.startswith(\"RB\") \\\n",
    "            or tag.startswith(\"VB\") \\\n",
    "            or tag.startswith(\"NN\"):\n",
    "                \n",
    "            try:\n",
    "                postag = treebank2wordnet[tag[:2]] # get the base form of tag\n",
    "            except:\n",
    "                postag = 'n'                \n",
    "                            \n",
    "            lemmas_list.append(lemmatizer.lemmatize(word.lower(), postag))    \n",
    "    \n",
    "    return lemmas_list"
   ]
  },
  {
   "cell_type": "markdown",
   "id": "b2f619b2",
   "metadata": {},
   "source": [
    "Pre-process the tweets, following a pipeline of tokenization, filtering, case normalization and lemma extraction, including an overall cleaning of html and other codes."
   ]
  },
  {
   "cell_type": "code",
   "execution_count": 14,
   "id": "576f91bd",
   "metadata": {},
   "outputs": [],
   "source": [
    "# This is the function to clean and filter the tokens in each tweet\n",
    "def clean_tweet(tokens):\n",
    "    \n",
    "    filtered = []\n",
    "    for token in tokens:\n",
    "        if re.search('[a-zA-Z]', token):\n",
    "            if token not in STOPLIST:\n",
    "                if token[0] not in SYMBOLS:\n",
    "                    if not token.startswith('http'):\n",
    "                        if  '/' not in token:\n",
    "                            if  '-' not in token:\n",
    "                                filtered.append(token)\n",
    "                                        \n",
    "    return filtered"
   ]
  },
  {
   "cell_type": "markdown",
   "id": "fee73ffb",
   "metadata": {},
   "source": [
    "Prior to lemmatization, apply POS (part-of-speech) tagging to make sure that only the adjectives, verbs, adverbs and nouns are retained."
   ]
  },
  {
   "cell_type": "code",
   "execution_count": 15,
   "id": "572fe614",
   "metadata": {},
   "outputs": [],
   "source": [
    "# Starts the lemmatization process\n",
    "def get_lemmatized(tweet):\n",
    "   \n",
    "    all_tokens_string = ''\n",
    "    filtered = []\n",
    "    tokens = []\n",
    "\n",
    "    # lemmatize\n",
    "    tokens = [token for token in get_lemmas(tweet)]\n",
    "    \n",
    "    # filter\n",
    "    filtered = clean_tweet(tokens)\n",
    "\n",
    "    # join everything into a single string\n",
    "    all_tokens_string = ' '.join(filtered)\n",
    "    \n",
    "    return all_tokens_string"
   ]
  },
  {
   "cell_type": "code",
   "execution_count": 16,
   "id": "a6c63719",
   "metadata": {},
   "outputs": [
    {
     "name": "stdout",
     "output_type": "stream",
     "text": [
      "Processing Eko Atlantic.csv\n",
      "Processing Eko Atlantic_5.csv\n",
      "Processing Hope city.csv\n",
      "Processing Hope city_5.csv\n",
      "Processing Konza tech.csv\n",
      "Processing Konza tech_5.csv\n",
      "Processing Vision city.csv\n",
      "Processing Vision city_5.csv\n",
      "Processing Waterfall City.csv\n",
      "Processing Waterfall City_5.csv\n"
     ]
    }
   ],
   "source": [
    "for file in os.listdir('tweets'):\n",
    "    print(\"Processing\", file)\n",
    "    df = pd.read_csv(f'tweets/{file}')\n",
    "    \n",
    "    # get the lemmatized tweets and puts the result in an \"edited\" text column\n",
    "    # for future use in this script\n",
    "    edited_tweets = []\n",
    "    for tweet in df['tweets']:\n",
    "        edited = get_lemmatized(tweet)\n",
    "        if len(edited) > 0:\n",
    "            edited_tweets.append(edited)\n",
    "        else:\n",
    "            edited_tweets.append(None)\n",
    "    df['edited'] = edited_tweets\n",
    "    \n",
    "    # After lemmatization, some tweets may end up with the same words\n",
    "    # Let's make sure that we have no duplicates\n",
    "    df.drop_duplicates(subset=['edited'], inplace=True)\n",
    "    df.dropna(inplace=True)\n",
    "    \n",
    "    # save newly edited df back to its file\n",
    "    df.to_csv(f'tweets/{file}', index=False)"
   ]
  },
  {
   "cell_type": "markdown",
   "id": "b9062647",
   "metadata": {},
   "source": [
    "Vader sentiment analysis:"
   ]
  },
  {
   "cell_type": "code",
   "execution_count": 17,
   "id": "59904ffe",
   "metadata": {},
   "outputs": [],
   "source": [
    "# Calling VADER\n",
    "analyzer = SentimentIntensityAnalyzer()"
   ]
  },
  {
   "cell_type": "markdown",
   "id": "de612ff5",
   "metadata": {},
   "source": [
    "The output of VADER are the positive, negative, and neutral ratios of sentiment. The most useful metric in VADER is the Compound score. Basically, it is calculated by a sum of the scores of each word, normalized to yeld values between -1, the most extreme negative score, and +1, the most extreme positive.\n",
    "\n",
    "From this normalized score, I will then create a categorical variable (\"sentiment\"), with an output of positive, negative and neutral ratios of sentiment, using the following thresholds:\n",
    "\n",
    "Positive sentiment : (compound score >= 0.05).\n",
    "\n",
    "Neutral sentiment : (compound score > -0.05) and (compound score < 0.05).\n",
    "\n",
    "Negative sentiment : (compound score <= -0.05)"
   ]
  },
  {
   "cell_type": "code",
   "execution_count": 18,
   "id": "aef48394",
   "metadata": {},
   "outputs": [],
   "source": [
    "# This function returns the sentiment category\n",
    "def get_sentiment(intensity):\n",
    "    if intensity >= 0.05:\n",
    "        return 'Positive'\n",
    "    elif (intensity >= -0.05) and (intensity < 0.05):\n",
    "        return 'Neutral'\n",
    "    else:\n",
    "        return 'Negative'"
   ]
  },
  {
   "cell_type": "code",
   "execution_count": 19,
   "id": "2207a358",
   "metadata": {},
   "outputs": [],
   "source": [
    "# Let's create a list of the emotions\n",
    "emotions = ['Anger', 'Anticipation','Disgust','Fear', 'Joy','Sadness', 'Surprise', 'Trust']"
   ]
  },
  {
   "cell_type": "code",
   "execution_count": 20,
   "id": "4b42f93e",
   "metadata": {},
   "outputs": [],
   "source": [
    "# Importing the data from the NCR lexicon\n",
    "ncr = pd.read_csv('ncr_lexicon.csv', sep =';')"
   ]
  },
  {
   "cell_type": "code",
   "execution_count": 21,
   "id": "70cee4c5",
   "metadata": {},
   "outputs": [],
   "source": [
    "def join_edited_string(edited_tweets):\n",
    "    \n",
    "    edited_string = ''\n",
    "    for row in edited_tweets:\n",
    "        edited_string = edited_string + ' ' + row\n",
    "        \n",
    "    return edited_string"
   ]
  },
  {
   "cell_type": "code",
   "execution_count": 22,
   "id": "f348b7ec",
   "metadata": {},
   "outputs": [],
   "source": [
    "def get_tweet_emotions(df, emotions, col):\n",
    "\n",
    "    df_tweets = df.copy()\n",
    "    \n",
    "    emo_info = {'emotion':'' , 'emo_frq': defaultdict(int) }    \n",
    "\n",
    "    list_emotion_counts = []\n",
    "\n",
    "    # creating a dictionary list to hold the frequency of the words\n",
    "    # contributing to the emotions\n",
    "    for emotion in emotions:\n",
    "        emo_info = {}\n",
    "        emo_info['emotion'] = emotion\n",
    "        emo_info['emo_frq'] = defaultdict(int)\n",
    "        list_emotion_counts.append(emo_info)\n",
    "    \n",
    "    # bulding a zeros matrix to hold the emotions data\n",
    "    df_emotions = pd.DataFrame(0, index=df.index, columns=emotions)\n",
    "\n",
    "    \n",
    "    # stemming the word to facilitate the search in NRC\n",
    "    stemmer = SnowballStemmer(\"english\")\n",
    "    \n",
    "    # iterating in the tweets data set\n",
    "    for i, row in df_tweets.iterrows(): # for each tweet ...\n",
    "        tweet = word_tokenize(df_tweets.loc[i][col])\n",
    "        for word in tweet: # for each word ...\n",
    "            word_stemmed = stemmer.stem(word.lower())\n",
    "            # check if the word is in NRC\n",
    "            result = ncr[ncr.English == word_stemmed]\n",
    "            # we have a match\n",
    "            if not result.empty:\n",
    "                # update the tweet-emotions counts\n",
    "                for idx, emotion in enumerate(emotions):\n",
    "                    df_emotions.at[i, emotion] += result[emotion]\n",
    "                    \n",
    "                    # update the frequencies dictionary list\n",
    "                    if result[emotion].any():\n",
    "                        try:\n",
    "                            list_emotion_counts[idx]['emo_frq'][word_to_ind[word]] += 1\n",
    "                        except:\n",
    "                            continue\n",
    "    \n",
    "    # append the emotions matrix to the tweets data set\n",
    "    df_tweets = pd.concat([df_tweets, df_emotions], axis=1)\n",
    "\n",
    "    return df_tweets, list_emotion_counts"
   ]
  },
  {
   "cell_type": "code",
   "execution_count": 23,
   "id": "53d804f8",
   "metadata": {},
   "outputs": [
    {
     "name": "stdout",
     "output_type": "stream",
     "text": [
      "Processing Eko Atlantic.csv\n"
     ]
    },
    {
     "data": {
      "image/png": "[encoded data removed]",
      "text/plain": [
       "<Figure size 432x288 with 1 Axes>"
      ]
     },
     "metadata": {
      "needs_background": "light"
     },
     "output_type": "display_data"
    },
    {
     "name": "stdout",
     "output_type": "stream",
     "text": [
      "Processing Eko Atlantic_5.csv\n"
     ]
    },
    {
     "data": {
      "image/png": "[encoded data removed]",
      "text/plain": [
       "<Figure size 432x288 with 1 Axes>"
      ]
     },
     "metadata": {
      "needs_background": "light"
     },
     "output_type": "display_data"
    },
    {
     "name": "stdout",
     "output_type": "stream",
     "text": [
      "Processing Hope city.csv\n"
     ]
    },
    {
     "data": {
      "image/png": "[encoded data removed]",
      "text/plain": [
       "<Figure size 432x288 with 1 Axes>"
      ]
     },
     "metadata": {
      "needs_background": "light"
     },
     "output_type": "display_data"
    },
    {
     "name": "stdout",
     "output_type": "stream",
     "text": [
      "Processing Hope city_5.csv\n"
     ]
    },
    {
     "data": {
      "image/png": "[encoded data removed]",
      "text/plain": [
       "<Figure size 432x288 with 1 Axes>"
      ]
     },
     "metadata": {
      "needs_background": "light"
     },
     "output_type": "display_data"
    },
    {
     "name": "stdout",
     "output_type": "stream",
     "text": [
      "Processing Konza tech.csv\n"
     ]
    },
    {
     "data": {
      "image/png": "[encoded data removed]",
      "text/plain": [
       "<Figure size 432x288 with 1 Axes>"
      ]
     },
     "metadata": {
      "needs_background": "light"
     },
     "output_type": "display_data"
    },
    {
     "name": "stdout",
     "output_type": "stream",
     "text": [
      "Processing Konza tech_5.csv\n"
     ]
    },
    {
     "data": {
      "image/png": "[encoded data removed]",
      "text/plain": [
       "<Figure size 432x288 with 1 Axes>"
      ]
     },
     "metadata": {
      "needs_background": "light"
     },
     "output_type": "display_data"
    },
    {
     "name": "stdout",
     "output_type": "stream",
     "text": [
      "Processing Vision city.csv\n"
     ]
    },
    {
     "data": {
      "image/png": "[encoded data removed]",
      "text/plain": [
       "<Figure size 432x288 with 1 Axes>"
      ]
     },
     "metadata": {
      "needs_background": "light"
     },
     "output_type": "display_data"
    },
    {
     "name": "stdout",
     "output_type": "stream",
     "text": [
      "Processing Vision city_5.csv\n"
     ]
    },
    {
     "data": {
      "image/png": "[encoded data removed]",
      "text/plain": [
       "<Figure size 432x288 with 1 Axes>"
      ]
     },
     "metadata": {
      "needs_background": "light"
     },
     "output_type": "display_data"
    },
    {
     "name": "stdout",
     "output_type": "stream",
     "text": [
      "Processing Waterfall City.csv\n"
     ]
    },
    {
     "data": {
      "image/png": "[encoded data removed]",
      "text/plain": [
       "<Figure size 432x288 with 1 Axes>"
      ]
     },
     "metadata": {
      "needs_background": "light"
     },
     "output_type": "display_data"
    },
    {
     "name": "stdout",
     "output_type": "stream",
     "text": [
      "Processing Waterfall City_5.csv\n"
     ]
    },
    {
     "ename": "ValueError",
     "evalue": "Wrong number of items passed 6, placement implies 1",
     "output_type": "error",
     "traceback": [
      "\u001b[0;31m---------------------------------------------------------------------------\u001b[0m",
      "\u001b[0;31mKeyError\u001b[0m                                  Traceback (most recent call last)",
      "\u001b[0;32m~/miniconda3/envs/nuti/lib/python3.8/site-packages/pandas/core/indexes/base.py\u001b[0m in \u001b[0;36mget_loc\u001b[0;34m(self, key, method, tolerance)\u001b[0m\n\u001b[1;32m   3079\u001b[0m             \u001b[0;32mtry\u001b[0m\u001b[0;34m:\u001b[0m\u001b[0;34m\u001b[0m\u001b[0;34m\u001b[0m\u001b[0m\n\u001b[0;32m-> 3080\u001b[0;31m                 \u001b[0;32mreturn\u001b[0m \u001b[0mself\u001b[0m\u001b[0;34m.\u001b[0m\u001b[0m_engine\u001b[0m\u001b[0;34m.\u001b[0m\u001b[0mget_loc\u001b[0m\u001b[0;34m(\u001b[0m\u001b[0mcasted_key\u001b[0m\u001b[0;34m)\u001b[0m\u001b[0;34m\u001b[0m\u001b[0;34m\u001b[0m\u001b[0m\n\u001b[0m\u001b[1;32m   3081\u001b[0m             \u001b[0;32mexcept\u001b[0m \u001b[0mKeyError\u001b[0m \u001b[0;32mas\u001b[0m \u001b[0merr\u001b[0m\u001b[0;34m:\u001b[0m\u001b[0;34m\u001b[0m\u001b[0;34m\u001b[0m\u001b[0m\n",
      "\u001b[0;32mpandas/_libs/index.pyx\u001b[0m in \u001b[0;36mpandas._libs.index.IndexEngine.get_loc\u001b[0;34m()\u001b[0m\n",
      "\u001b[0;32mpandas/_libs/index.pyx\u001b[0m in \u001b[0;36mpandas._libs.index.IndexEngine.get_loc\u001b[0;34m()\u001b[0m\n",
      "\u001b[0;32mpandas/_libs/hashtable_class_helper.pxi\u001b[0m in \u001b[0;36mpandas._libs.hashtable.PyObjectHashTable.get_item\u001b[0;34m()\u001b[0m\n",
      "\u001b[0;32mpandas/_libs/hashtable_class_helper.pxi\u001b[0m in \u001b[0;36mpandas._libs.hashtable.PyObjectHashTable.get_item\u001b[0;34m()\u001b[0m\n",
      "\u001b[0;31mKeyError\u001b[0m: 'sentiment'",
      "\nThe above exception was the direct cause of the following exception:\n",
      "\u001b[0;31mKeyError\u001b[0m                                  Traceback (most recent call last)",
      "\u001b[0;32m~/miniconda3/envs/nuti/lib/python3.8/site-packages/pandas/core/generic.py\u001b[0m in \u001b[0;36m_set_item\u001b[0;34m(self, key, value)\u001b[0m\n\u001b[1;32m   3825\u001b[0m         \u001b[0;32mtry\u001b[0m\u001b[0;34m:\u001b[0m\u001b[0;34m\u001b[0m\u001b[0;34m\u001b[0m\u001b[0m\n\u001b[0;32m-> 3826\u001b[0;31m             \u001b[0mloc\u001b[0m \u001b[0;34m=\u001b[0m \u001b[0mself\u001b[0m\u001b[0;34m.\u001b[0m\u001b[0m_info_axis\u001b[0m\u001b[0;34m.\u001b[0m\u001b[0mget_loc\u001b[0m\u001b[0;34m(\u001b[0m\u001b[0mkey\u001b[0m\u001b[0;34m)\u001b[0m\u001b[0;34m\u001b[0m\u001b[0;34m\u001b[0m\u001b[0m\n\u001b[0m\u001b[1;32m   3827\u001b[0m         \u001b[0;32mexcept\u001b[0m \u001b[0mKeyError\u001b[0m\u001b[0;34m:\u001b[0m\u001b[0;34m\u001b[0m\u001b[0;34m\u001b[0m\u001b[0m\n",
      "\u001b[0;32m~/miniconda3/envs/nuti/lib/python3.8/site-packages/pandas/core/indexes/base.py\u001b[0m in \u001b[0;36mget_loc\u001b[0;34m(self, key, method, tolerance)\u001b[0m\n\u001b[1;32m   3081\u001b[0m             \u001b[0;32mexcept\u001b[0m \u001b[0mKeyError\u001b[0m \u001b[0;32mas\u001b[0m \u001b[0merr\u001b[0m\u001b[0;34m:\u001b[0m\u001b[0;34m\u001b[0m\u001b[0;34m\u001b[0m\u001b[0m\n\u001b[0;32m-> 3082\u001b[0;31m                 \u001b[0;32mraise\u001b[0m \u001b[0mKeyError\u001b[0m\u001b[0;34m(\u001b[0m\u001b[0mkey\u001b[0m\u001b[0;34m)\u001b[0m \u001b[0;32mfrom\u001b[0m \u001b[0merr\u001b[0m\u001b[0;34m\u001b[0m\u001b[0;34m\u001b[0m\u001b[0m\n\u001b[0m\u001b[1;32m   3083\u001b[0m \u001b[0;34m\u001b[0m\u001b[0m\n",
      "\u001b[0;31mKeyError\u001b[0m: 'sentiment'",
      "\nDuring handling of the above exception, another exception occurred:\n",
      "\u001b[0;31mValueError\u001b[0m                                Traceback (most recent call last)",
      "\u001b[0;32m<ipython-input-23-4a284df55ab9>\u001b[0m in \u001b[0;36m<module>\u001b[0;34m\u001b[0m\n\u001b[1;32m      7\u001b[0m \u001b[0;34m\u001b[0m\u001b[0m\n\u001b[1;32m      8\u001b[0m     \u001b[0;31m# Using pandas apply/lambda to speed up the process\u001b[0m\u001b[0;34m\u001b[0m\u001b[0;34m\u001b[0m\u001b[0;34m\u001b[0m\u001b[0m\n\u001b[0;32m----> 9\u001b[0;31m     \u001b[0mdf\u001b[0m\u001b[0;34m[\u001b[0m\u001b[0;34m'sentiment'\u001b[0m\u001b[0;34m]\u001b[0m \u001b[0;34m=\u001b[0m \u001b[0mdf\u001b[0m\u001b[0;34m.\u001b[0m\u001b[0mapply\u001b[0m\u001b[0;34m(\u001b[0m\u001b[0;32mlambda\u001b[0m \u001b[0mx\u001b[0m\u001b[0;34m:\u001b[0m \u001b[0mget_sentiment\u001b[0m\u001b[0;34m(\u001b[0m\u001b[0mx\u001b[0m\u001b[0;34m[\u001b[0m\u001b[0;34m'sentiment_intensity'\u001b[0m\u001b[0;34m]\u001b[0m\u001b[0;34m)\u001b[0m\u001b[0;34m,\u001b[0m\u001b[0maxis\u001b[0m\u001b[0;34m=\u001b[0m\u001b[0;36m1\u001b[0m\u001b[0;34m)\u001b[0m\u001b[0;34m\u001b[0m\u001b[0;34m\u001b[0m\u001b[0m\n\u001b[0m\u001b[1;32m     10\u001b[0m \u001b[0;34m\u001b[0m\u001b[0m\n\u001b[1;32m     11\u001b[0m     \u001b[0;31m#print(2)\u001b[0m\u001b[0;34m\u001b[0m\u001b[0;34m\u001b[0m\u001b[0;34m\u001b[0m\u001b[0m\n",
      "\u001b[0;32m~/miniconda3/envs/nuti/lib/python3.8/site-packages/pandas/core/frame.py\u001b[0m in \u001b[0;36m__setitem__\u001b[0;34m(self, key, value)\u001b[0m\n\u001b[1;32m   3161\u001b[0m         \u001b[0;32melse\u001b[0m\u001b[0;34m:\u001b[0m\u001b[0;34m\u001b[0m\u001b[0;34m\u001b[0m\u001b[0m\n\u001b[1;32m   3162\u001b[0m             \u001b[0;31m# set column\u001b[0m\u001b[0;34m\u001b[0m\u001b[0;34m\u001b[0m\u001b[0;34m\u001b[0m\u001b[0m\n\u001b[0;32m-> 3163\u001b[0;31m             \u001b[0mself\u001b[0m\u001b[0;34m.\u001b[0m\u001b[0m_set_item\u001b[0m\u001b[0;34m(\u001b[0m\u001b[0mkey\u001b[0m\u001b[0;34m,\u001b[0m \u001b[0mvalue\u001b[0m\u001b[0;34m)\u001b[0m\u001b[0;34m\u001b[0m\u001b[0;34m\u001b[0m\u001b[0m\n\u001b[0m\u001b[1;32m   3164\u001b[0m \u001b[0;34m\u001b[0m\u001b[0m\n\u001b[1;32m   3165\u001b[0m     \u001b[0;32mdef\u001b[0m \u001b[0m_setitem_slice\u001b[0m\u001b[0;34m(\u001b[0m\u001b[0mself\u001b[0m\u001b[0;34m,\u001b[0m \u001b[0mkey\u001b[0m\u001b[0;34m:\u001b[0m \u001b[0mslice\u001b[0m\u001b[0;34m,\u001b[0m \u001b[0mvalue\u001b[0m\u001b[0;34m)\u001b[0m\u001b[0;34m:\u001b[0m\u001b[0;34m\u001b[0m\u001b[0;34m\u001b[0m\u001b[0m\n",
      "\u001b[0;32m~/miniconda3/envs/nuti/lib/python3.8/site-packages/pandas/core/frame.py\u001b[0m in \u001b[0;36m_set_item\u001b[0;34m(self, key, value)\u001b[0m\n\u001b[1;32m   3241\u001b[0m         \u001b[0mself\u001b[0m\u001b[0;34m.\u001b[0m\u001b[0m_ensure_valid_index\u001b[0m\u001b[0;34m(\u001b[0m\u001b[0mvalue\u001b[0m\u001b[0;34m)\u001b[0m\u001b[0;34m\u001b[0m\u001b[0;34m\u001b[0m\u001b[0m\n\u001b[1;32m   3242\u001b[0m         \u001b[0mvalue\u001b[0m \u001b[0;34m=\u001b[0m \u001b[0mself\u001b[0m\u001b[0;34m.\u001b[0m\u001b[0m_sanitize_column\u001b[0m\u001b[0;34m(\u001b[0m\u001b[0mkey\u001b[0m\u001b[0;34m,\u001b[0m \u001b[0mvalue\u001b[0m\u001b[0;34m)\u001b[0m\u001b[0;34m\u001b[0m\u001b[0;34m\u001b[0m\u001b[0m\n\u001b[0;32m-> 3243\u001b[0;31m         \u001b[0mNDFrame\u001b[0m\u001b[0;34m.\u001b[0m\u001b[0m_set_item\u001b[0m\u001b[0;34m(\u001b[0m\u001b[0mself\u001b[0m\u001b[0;34m,\u001b[0m \u001b[0mkey\u001b[0m\u001b[0;34m,\u001b[0m \u001b[0mvalue\u001b[0m\u001b[0;34m)\u001b[0m\u001b[0;34m\u001b[0m\u001b[0;34m\u001b[0m\u001b[0m\n\u001b[0m\u001b[1;32m   3244\u001b[0m \u001b[0;34m\u001b[0m\u001b[0m\n\u001b[1;32m   3245\u001b[0m         \u001b[0;31m# check if we are modifying a copy\u001b[0m\u001b[0;34m\u001b[0m\u001b[0;34m\u001b[0m\u001b[0;34m\u001b[0m\u001b[0m\n",
      "\u001b[0;32m~/miniconda3/envs/nuti/lib/python3.8/site-packages/pandas/core/generic.py\u001b[0m in \u001b[0;36m_set_item\u001b[0;34m(self, key, value)\u001b[0m\n\u001b[1;32m   3827\u001b[0m         \u001b[0;32mexcept\u001b[0m \u001b[0mKeyError\u001b[0m\u001b[0;34m:\u001b[0m\u001b[0;34m\u001b[0m\u001b[0;34m\u001b[0m\u001b[0m\n\u001b[1;32m   3828\u001b[0m             \u001b[0;31m# This item wasn't present, just insert at end\u001b[0m\u001b[0;34m\u001b[0m\u001b[0;34m\u001b[0m\u001b[0;34m\u001b[0m\u001b[0m\n\u001b[0;32m-> 3829\u001b[0;31m             \u001b[0mself\u001b[0m\u001b[0;34m.\u001b[0m\u001b[0m_mgr\u001b[0m\u001b[0;34m.\u001b[0m\u001b[0minsert\u001b[0m\u001b[0;34m(\u001b[0m\u001b[0mlen\u001b[0m\u001b[0;34m(\u001b[0m\u001b[0mself\u001b[0m\u001b[0;34m.\u001b[0m\u001b[0m_info_axis\u001b[0m\u001b[0;34m)\u001b[0m\u001b[0;34m,\u001b[0m \u001b[0mkey\u001b[0m\u001b[0;34m,\u001b[0m \u001b[0mvalue\u001b[0m\u001b[0;34m)\u001b[0m\u001b[0;34m\u001b[0m\u001b[0;34m\u001b[0m\u001b[0m\n\u001b[0m\u001b[1;32m   3830\u001b[0m             \u001b[0;32mreturn\u001b[0m\u001b[0;34m\u001b[0m\u001b[0;34m\u001b[0m\u001b[0m\n\u001b[1;32m   3831\u001b[0m \u001b[0;34m\u001b[0m\u001b[0m\n",
      "\u001b[0;32m~/miniconda3/envs/nuti/lib/python3.8/site-packages/pandas/core/internals/managers.py\u001b[0m in \u001b[0;36minsert\u001b[0;34m(self, loc, item, value, allow_duplicates)\u001b[0m\n\u001b[1;32m   1201\u001b[0m             \u001b[0mvalue\u001b[0m \u001b[0;34m=\u001b[0m \u001b[0msafe_reshape\u001b[0m\u001b[0;34m(\u001b[0m\u001b[0mvalue\u001b[0m\u001b[0;34m,\u001b[0m \u001b[0;34m(\u001b[0m\u001b[0;36m1\u001b[0m\u001b[0;34m,\u001b[0m\u001b[0;34m)\u001b[0m \u001b[0;34m+\u001b[0m \u001b[0mvalue\u001b[0m\u001b[0;34m.\u001b[0m\u001b[0mshape\u001b[0m\u001b[0;34m)\u001b[0m\u001b[0;34m\u001b[0m\u001b[0;34m\u001b[0m\u001b[0m\n\u001b[1;32m   1202\u001b[0m \u001b[0;34m\u001b[0m\u001b[0m\n\u001b[0;32m-> 1203\u001b[0;31m         \u001b[0mblock\u001b[0m \u001b[0;34m=\u001b[0m \u001b[0mmake_block\u001b[0m\u001b[0;34m(\u001b[0m\u001b[0mvalues\u001b[0m\u001b[0;34m=\u001b[0m\u001b[0mvalue\u001b[0m\u001b[0;34m,\u001b[0m \u001b[0mndim\u001b[0m\u001b[0;34m=\u001b[0m\u001b[0mself\u001b[0m\u001b[0;34m.\u001b[0m\u001b[0mndim\u001b[0m\u001b[0;34m,\u001b[0m \u001b[0mplacement\u001b[0m\u001b[0;34m=\u001b[0m\u001b[0mslice\u001b[0m\u001b[0;34m(\u001b[0m\u001b[0mloc\u001b[0m\u001b[0;34m,\u001b[0m \u001b[0mloc\u001b[0m \u001b[0;34m+\u001b[0m \u001b[0;36m1\u001b[0m\u001b[0;34m)\u001b[0m\u001b[0;34m)\u001b[0m\u001b[0;34m\u001b[0m\u001b[0;34m\u001b[0m\u001b[0m\n\u001b[0m\u001b[1;32m   1204\u001b[0m \u001b[0;34m\u001b[0m\u001b[0m\n\u001b[1;32m   1205\u001b[0m         \u001b[0;32mfor\u001b[0m \u001b[0mblkno\u001b[0m\u001b[0;34m,\u001b[0m \u001b[0mcount\u001b[0m \u001b[0;32min\u001b[0m \u001b[0m_fast_count_smallints\u001b[0m\u001b[0;34m(\u001b[0m\u001b[0mself\u001b[0m\u001b[0;34m.\u001b[0m\u001b[0mblknos\u001b[0m\u001b[0;34m[\u001b[0m\u001b[0mloc\u001b[0m\u001b[0;34m:\u001b[0m\u001b[0;34m]\u001b[0m\u001b[0;34m)\u001b[0m\u001b[0;34m:\u001b[0m\u001b[0;34m\u001b[0m\u001b[0;34m\u001b[0m\u001b[0m\n",
      "\u001b[0;32m~/miniconda3/envs/nuti/lib/python3.8/site-packages/pandas/core/internals/blocks.py\u001b[0m in \u001b[0;36mmake_block\u001b[0;34m(values, placement, klass, ndim, dtype)\u001b[0m\n\u001b[1;32m   2740\u001b[0m         \u001b[0mvalues\u001b[0m \u001b[0;34m=\u001b[0m \u001b[0mDatetimeArray\u001b[0m\u001b[0;34m.\u001b[0m\u001b[0m_simple_new\u001b[0m\u001b[0;34m(\u001b[0m\u001b[0mvalues\u001b[0m\u001b[0;34m,\u001b[0m \u001b[0mdtype\u001b[0m\u001b[0;34m=\u001b[0m\u001b[0mdtype\u001b[0m\u001b[0;34m)\u001b[0m\u001b[0;34m\u001b[0m\u001b[0;34m\u001b[0m\u001b[0m\n\u001b[1;32m   2741\u001b[0m \u001b[0;34m\u001b[0m\u001b[0m\n\u001b[0;32m-> 2742\u001b[0;31m     \u001b[0;32mreturn\u001b[0m \u001b[0mklass\u001b[0m\u001b[0;34m(\u001b[0m\u001b[0mvalues\u001b[0m\u001b[0;34m,\u001b[0m \u001b[0mndim\u001b[0m\u001b[0;34m=\u001b[0m\u001b[0mndim\u001b[0m\u001b[0;34m,\u001b[0m \u001b[0mplacement\u001b[0m\u001b[0;34m=\u001b[0m\u001b[0mplacement\u001b[0m\u001b[0;34m)\u001b[0m\u001b[0;34m\u001b[0m\u001b[0;34m\u001b[0m\u001b[0m\n\u001b[0m\u001b[1;32m   2743\u001b[0m \u001b[0;34m\u001b[0m\u001b[0m\n\u001b[1;32m   2744\u001b[0m \u001b[0;34m\u001b[0m\u001b[0m\n",
      "\u001b[0;32m~/miniconda3/envs/nuti/lib/python3.8/site-packages/pandas/core/internals/blocks.py\u001b[0m in \u001b[0;36m__init__\u001b[0;34m(self, values, placement, ndim)\u001b[0m\n\u001b[1;32m    140\u001b[0m \u001b[0;34m\u001b[0m\u001b[0m\n\u001b[1;32m    141\u001b[0m         \u001b[0;32mif\u001b[0m \u001b[0mself\u001b[0m\u001b[0;34m.\u001b[0m\u001b[0m_validate_ndim\u001b[0m \u001b[0;32mand\u001b[0m \u001b[0mself\u001b[0m\u001b[0;34m.\u001b[0m\u001b[0mndim\u001b[0m \u001b[0;32mand\u001b[0m \u001b[0mlen\u001b[0m\u001b[0;34m(\u001b[0m\u001b[0mself\u001b[0m\u001b[0;34m.\u001b[0m\u001b[0mmgr_locs\u001b[0m\u001b[0;34m)\u001b[0m \u001b[0;34m!=\u001b[0m \u001b[0mlen\u001b[0m\u001b[0;34m(\u001b[0m\u001b[0mself\u001b[0m\u001b[0;34m.\u001b[0m\u001b[0mvalues\u001b[0m\u001b[0;34m)\u001b[0m\u001b[0;34m:\u001b[0m\u001b[0;34m\u001b[0m\u001b[0;34m\u001b[0m\u001b[0m\n\u001b[0;32m--> 142\u001b[0;31m             raise ValueError(\n\u001b[0m\u001b[1;32m    143\u001b[0m                 \u001b[0;34mf\"Wrong number of items passed {len(self.values)}, \"\u001b[0m\u001b[0;34m\u001b[0m\u001b[0;34m\u001b[0m\u001b[0m\n\u001b[1;32m    144\u001b[0m                 \u001b[0;34mf\"placement implies {len(self.mgr_locs)}\"\u001b[0m\u001b[0;34m\u001b[0m\u001b[0;34m\u001b[0m\u001b[0m\n",
      "\u001b[0;31mValueError\u001b[0m: Wrong number of items passed 6, placement implies 1"
     ]
    }
   ],
   "source": [
    "for file in os.listdir('tweets'):\n",
    "    print(\"Processing\", file)\n",
    "    df = pd.read_csv(f'tweets/{file}', lineterminator='\\n') #line terminator prevents parsing error\n",
    "    \n",
    "    # Get VADER Compound value for sentiment intensity\n",
    "    df['sentiment_intensity'] = [analyzer.polarity_scores(edited_tweet)['compound'] for edited_tweet in df['edited']]\n",
    "    \n",
    "    # Using pandas apply/lambda to speed up the process\n",
    "    df['sentiment'] = df.apply(lambda x: get_sentiment(x['sentiment_intensity']),axis=1)\n",
    "    \n",
    "    #print(2)\n",
    "    # Join all the edited tweets in one single string\n",
    "    joined_string = join_edited_string(df['edited'])\n",
    "\n",
    "    # Get tokens\n",
    "    tokens = joined_string.split(' ')\n",
    "    \n",
    "    # We build now two dictionaries with indexes and unique words, for future reference\n",
    "    unique_words = set(tokens)\n",
    "    word_to_ind = dict((word, i) for i, word in enumerate(unique_words))\n",
    "    ind_to_word = dict((i, word) for i, word in enumerate(unique_words))\n",
    "    \n",
    "    # We are using the NCR lexicon to associate words to emotions \n",
    "    # Be patient, this will take some time ...\n",
    "    df, list_emotion_counts = get_tweet_emotions(df, emotions, 'edited')\n",
    "    \n",
    "    # Get all rows where no emotion was detected and remove them\n",
    "    all_zeros = []\n",
    "    for i in range(len(df)):\n",
    "        all_zeros.append(df.Anger[i] == df.Anticipation[i] == df.Disgust[i] == df.Fear[i] == df.Joy[i] == df.Sadness[i] == df.Surprise[i] == df.Trust[i] == 0)\n",
    "\n",
    "    df[\"all_zeros\"] = all_zeros\n",
    "\n",
    "    # Get indexes where all_zeros column has value True\n",
    "    indexNames = df[df['all_zeros'] == True].index # Delete these row indexes from dataFrame\n",
    "    df.drop(indexNames , inplace=True)\n",
    "    df.reset_index(drop=True, inplace=True)\n",
    "    df.drop(columns=['all_zeros'], inplace=True)\n",
    "    \n",
    "    # Get the counts for the various emotions (found in the last 8 columns)\n",
    "    emo_counts = {}\n",
    "    for emo in df.columns[-8:]:\n",
    "        emo_counts[emo] = df[emo].sum()\n",
    "        \n",
    "    emotions = list(emo_counts.keys())\n",
    "    counts = list(emo_counts.values())\n",
    "    \n",
    "    plt.bar(emotions, counts)\n",
    "    plt.title(file[:-4])# give a title to the plot\n",
    "    plt.xlabel(\"Emotion\")\n",
    "    plt.ylabel(\"Frequency\")\n",
    "    plt.xticks(rotation = 45) # Rotates X-Axis Ticks by 45-degrees\n",
    "    plt.show()\n",
    "\n",
    "    # save newly edited df back to its file\n",
    "    df.to_csv(f'tweets/{file}', index=False)"
   ]
  },
  {
   "cell_type": "code",
   "execution_count": null,
   "id": "e24e99d6",
   "metadata": {},
   "outputs": [],
   "source": []
  },
  {
   "cell_type": "code",
   "execution_count": null,
   "id": "c3697632",
   "metadata": {},
   "outputs": [],
   "source": []
  }
 ],
 "metadata": {
  "kernelspec": {
   "display_name": "Python 3",
   "language": "python",
   "name": "python3"
  },
  "language_info": {
   "codemirror_mode": {
    "name": "ipython",
    "version": 3
   },
   "file_extension": ".py",
   "mimetype": "text/x-python",
   "name": "python",
   "nbconvert_exporter": "python",
   "pygments_lexer": "ipython3",
   "version": "3.8.10"
  }
 },
 "nbformat": 4,
 "nbformat_minor": 5
}
